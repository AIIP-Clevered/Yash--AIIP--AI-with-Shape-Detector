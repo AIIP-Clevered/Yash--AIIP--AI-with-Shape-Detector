{
  "nbformat": 4,
  "nbformat_minor": 0,
  "metadata": {
    "colab": {
      "provenance": []
    },
    "kernelspec": {
      "name": "python3",
      "display_name": "Python 3"
    },
    "language_info": {
      "name": "python"
    },
    "widgets": {
      "application/vnd.jupyter.widget-state+json": {
        "c42f3aa8bd9b4a31b5528f8b5e506f12": {
          "model_module": "@jupyter-widgets/controls",
          "model_name": "FileUploadModel",
          "model_module_version": "1.5.0",
          "state": {
            "_counter": 1,
            "_dom_classes": [],
            "_model_module": "@jupyter-widgets/controls",
            "_model_module_version": "1.5.0",
            "_model_name": "FileUploadModel",
            "_view_count": null,
            "_view_module": "@jupyter-widgets/controls",
            "_view_module_version": "1.5.0",
            "_view_name": "FileUploadView",
            "accept": "",
            "button_style": "",
            "data": [
              null
            ],
            "description": "Upload Image",
            "description_tooltip": null,
            "disabled": false,
            "error": "",
            "icon": "upload",
            "layout": "IPY_MODEL_258a788f54784802b78c262f926c111c",
            "metadata": [
              {
                "name": "topic.png",
                "type": "image/png",
                "size": 74413,
                "lastModified": 1703154004566
              }
            ],
            "multiple": false,
            "style": "IPY_MODEL_2a8e5d23b085403da0eb701ab1f6d96b"
          }
        },
        "258a788f54784802b78c262f926c111c": {
          "model_module": "@jupyter-widgets/base",
          "model_name": "LayoutModel",
          "model_module_version": "1.2.0",
          "state": {
            "_model_module": "@jupyter-widgets/base",
            "_model_module_version": "1.2.0",
            "_model_name": "LayoutModel",
            "_view_count": null,
            "_view_module": "@jupyter-widgets/base",
            "_view_module_version": "1.2.0",
            "_view_name": "LayoutView",
            "align_content": null,
            "align_items": null,
            "align_self": null,
            "border": null,
            "bottom": null,
            "display": null,
            "flex": null,
            "flex_flow": null,
            "grid_area": null,
            "grid_auto_columns": null,
            "grid_auto_flow": null,
            "grid_auto_rows": null,
            "grid_column": null,
            "grid_gap": null,
            "grid_row": null,
            "grid_template_areas": null,
            "grid_template_columns": null,
            "grid_template_rows": null,
            "height": null,
            "justify_content": null,
            "justify_items": null,
            "left": null,
            "margin": null,
            "max_height": null,
            "max_width": null,
            "min_height": null,
            "min_width": null,
            "object_fit": null,
            "object_position": null,
            "order": null,
            "overflow": null,
            "overflow_x": null,
            "overflow_y": null,
            "padding": null,
            "right": null,
            "top": null,
            "visibility": null,
            "width": null
          }
        },
        "2a8e5d23b085403da0eb701ab1f6d96b": {
          "model_module": "@jupyter-widgets/controls",
          "model_name": "ButtonStyleModel",
          "model_module_version": "1.5.0",
          "state": {
            "_model_module": "@jupyter-widgets/controls",
            "_model_module_version": "1.5.0",
            "_model_name": "ButtonStyleModel",
            "_view_count": null,
            "_view_module": "@jupyter-widgets/base",
            "_view_module_version": "1.2.0",
            "_view_name": "StyleView",
            "button_color": null,
            "font_weight": ""
          }
        },
        "57f85a0837ce40f0b4612e4a267f11c3": {
          "model_module": "@jupyter-widgets/controls",
          "model_name": "ButtonModel",
          "model_module_version": "1.5.0",
          "state": {
            "_dom_classes": [],
            "_model_module": "@jupyter-widgets/controls",
            "_model_module_version": "1.5.0",
            "_model_name": "ButtonModel",
            "_view_count": null,
            "_view_module": "@jupyter-widgets/controls",
            "_view_module_version": "1.5.0",
            "_view_name": "ButtonView",
            "button_style": "",
            "description": "Submit",
            "disabled": false,
            "icon": "",
            "layout": "IPY_MODEL_3df24b99512c4313bb09b8072c024678",
            "style": "IPY_MODEL_d26cc920bf734c2ba602e86446c24955",
            "tooltip": ""
          }
        },
        "3df24b99512c4313bb09b8072c024678": {
          "model_module": "@jupyter-widgets/base",
          "model_name": "LayoutModel",
          "model_module_version": "1.2.0",
          "state": {
            "_model_module": "@jupyter-widgets/base",
            "_model_module_version": "1.2.0",
            "_model_name": "LayoutModel",
            "_view_count": null,
            "_view_module": "@jupyter-widgets/base",
            "_view_module_version": "1.2.0",
            "_view_name": "LayoutView",
            "align_content": null,
            "align_items": null,
            "align_self": null,
            "border": null,
            "bottom": null,
            "display": null,
            "flex": null,
            "flex_flow": null,
            "grid_area": null,
            "grid_auto_columns": null,
            "grid_auto_flow": null,
            "grid_auto_rows": null,
            "grid_column": null,
            "grid_gap": null,
            "grid_row": null,
            "grid_template_areas": null,
            "grid_template_columns": null,
            "grid_template_rows": null,
            "height": null,
            "justify_content": null,
            "justify_items": null,
            "left": null,
            "margin": null,
            "max_height": null,
            "max_width": null,
            "min_height": null,
            "min_width": null,
            "object_fit": null,
            "object_position": null,
            "order": null,
            "overflow": null,
            "overflow_x": null,
            "overflow_y": null,
            "padding": null,
            "right": null,
            "top": null,
            "visibility": null,
            "width": null
          }
        },
        "d26cc920bf734c2ba602e86446c24955": {
          "model_module": "@jupyter-widgets/controls",
          "model_name": "ButtonStyleModel",
          "model_module_version": "1.5.0",
          "state": {
            "_model_module": "@jupyter-widgets/controls",
            "_model_module_version": "1.5.0",
            "_model_name": "ButtonStyleModel",
            "_view_count": null,
            "_view_module": "@jupyter-widgets/base",
            "_view_module_version": "1.2.0",
            "_view_name": "StyleView",
            "button_color": null,
            "font_weight": ""
          }
        },
        "8c7ca3c987f44216a48f47b9070e57bb": {
          "model_module": "@jupyter-widgets/output",
          "model_name": "OutputModel",
          "model_module_version": "1.0.0",
          "state": {
            "_dom_classes": [],
            "_model_module": "@jupyter-widgets/output",
            "_model_module_version": "1.0.0",
            "_model_name": "OutputModel",
            "_view_count": null,
            "_view_module": "@jupyter-widgets/output",
            "_view_module_version": "1.0.0",
            "_view_name": "OutputView",
            "layout": "IPY_MODEL_94ceb99b8e6e46bbbd5a25828049f738",
            "msg_id": "",
            "outputs": [
              {
                "output_type": "stream",
                "name": "stdout",
                "text": [
                  "Image uploaded successfully\n"
                ]
              },
              {
                "output_type": "display_data",
                "data": {
                  "text/plain": "<PIL.Image.Image image mode=RGB size=500x500>",
                  "image/png": "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\n"
                },
                "metadata": {}
              }
            ]
          }
        },
        "94ceb99b8e6e46bbbd5a25828049f738": {
          "model_module": "@jupyter-widgets/base",
          "model_name": "LayoutModel",
          "model_module_version": "1.2.0",
          "state": {
            "_model_module": "@jupyter-widgets/base",
            "_model_module_version": "1.2.0",
            "_model_name": "LayoutModel",
            "_view_count": null,
            "_view_module": "@jupyter-widgets/base",
            "_view_module_version": "1.2.0",
            "_view_name": "LayoutView",
            "align_content": null,
            "align_items": null,
            "align_self": null,
            "border": null,
            "bottom": null,
            "display": null,
            "flex": null,
            "flex_flow": null,
            "grid_area": null,
            "grid_auto_columns": null,
            "grid_auto_flow": null,
            "grid_auto_rows": null,
            "grid_column": null,
            "grid_gap": null,
            "grid_row": null,
            "grid_template_areas": null,
            "grid_template_columns": null,
            "grid_template_rows": null,
            "height": null,
            "justify_content": null,
            "justify_items": null,
            "left": null,
            "margin": null,
            "max_height": null,
            "max_width": null,
            "min_height": null,
            "min_width": null,
            "object_fit": null,
            "object_position": null,
            "order": null,
            "overflow": null,
            "overflow_x": null,
            "overflow_y": null,
            "padding": null,
            "right": null,
            "top": null,
            "visibility": null,
            "width": null
          }
        }
      }
    }
  },
  "cells": [
    {
      "cell_type": "code",
      "execution_count": 1,
      "metadata": {
        "colab": {
          "base_uri": "https://localhost:8080/",
          "height": 598,
          "referenced_widgets": [
            "c42f3aa8bd9b4a31b5528f8b5e506f12",
            "258a788f54784802b78c262f926c111c",
            "2a8e5d23b085403da0eb701ab1f6d96b",
            "57f85a0837ce40f0b4612e4a267f11c3",
            "3df24b99512c4313bb09b8072c024678",
            "d26cc920bf734c2ba602e86446c24955",
            "8c7ca3c987f44216a48f47b9070e57bb",
            "94ceb99b8e6e46bbbd5a25828049f738"
          ]
        },
        "id": "lINiZ12bB1eO",
        "outputId": "bbe19330-137d-49be-e73a-3755f88fc5fd"
      },
      "outputs": [
        {
          "output_type": "display_data",
          "data": {
            "text/plain": [
              "FileUpload(value={}, description='Upload Image')"
            ],
            "application/vnd.jupyter.widget-view+json": {
              "version_major": 2,
              "version_minor": 0,
              "model_id": "c42f3aa8bd9b4a31b5528f8b5e506f12"
            }
          },
          "metadata": {}
        },
        {
          "output_type": "display_data",
          "data": {
            "text/plain": [
              "Button(description='Submit', style=ButtonStyle())"
            ],
            "application/vnd.jupyter.widget-view+json": {
              "version_major": 2,
              "version_minor": 0,
              "model_id": "57f85a0837ce40f0b4612e4a267f11c3"
            }
          },
          "metadata": {}
        },
        {
          "output_type": "display_data",
          "data": {
            "text/plain": [
              "Output()"
            ],
            "application/vnd.jupyter.widget-view+json": {
              "version_major": 2,
              "version_minor": 0,
              "model_id": "8c7ca3c987f44216a48f47b9070e57bb"
            }
          },
          "metadata": {}
        }
      ],
      "source": [
        "import ipywidgets as widgets\n",
        "from IPython.display import display\n",
        "from PIL import Image\n",
        "import io\n",
        "import cv2\n",
        "from google.colab.patches import cv2_imshow\n",
        "import numpy as np\n",
        "\n",
        "#create button widget\n",
        "upload_button = widgets.FileUpload(description='Upload Image')\n",
        "submit_button = widgets.Button(description='Submit')\n",
        "output = widgets.Output()\n",
        "\n",
        "# Define submit button click event handler\n",
        "def on_submit_button_click(button):\n",
        "    with output:\n",
        "        if upload_button.value:\n",
        "            uploaded_files = list(upload_button.value.values())\n",
        "            if uploaded_files:\n",
        "                image_bytes = uploaded_files[0]['content']\n",
        "                image = Image.open(io.BytesIO(image_bytes))\n",
        "                print(\"Image uploaded successfully\")\n",
        "                detect_shapes(image)\n",
        "            else:\n",
        "                print('No image uploaded. Please upload an image.')\n",
        "        else:\n",
        "            print('No image uploaded. Please upload an image.')\n",
        "\n",
        "# Assign event handler to the submit button\n",
        "submit_button.on_click(on_submit_button_click)\n",
        "\n",
        "# Display UI elements\n",
        "display(upload_button)\n",
        "display(submit_button)\n",
        "display(output)\n",
        "\n",
        "def detect_shapes(image):\n",
        "    # Convert Image to NumPy array\n",
        "    img_np = np.array(image)\n",
        "\n",
        "    # Process the image\n",
        "    img = cv2.resize(img_np, (500, 500))\n",
        "\n",
        "    # Convert to grayscale if the image is not already in grayscale\n",
        "    if len(img.shape) == 3 and img.shape[2] == 3:\n",
        "        gray = cv2.cvtColor(img, cv2.COLOR_BGR2GRAY)\n",
        "    else:\n",
        "        gray = img  # Image is already in grayscale\n",
        "\n",
        "    _, threshold = cv2.threshold(gray, 127, 255, cv2.THRESH_BINARY)\n",
        "\n",
        "    # Find contours\n",
        "    contours, _ = cv2.findContours(\n",
        "        threshold, cv2.RETR_TREE, cv2.CHAIN_APPROX_SIMPLE)\n",
        "\n",
        "    for contour in contours:\n",
        "        approx = cv2.approxPolyDP(\n",
        "            contour, 0.02 * cv2.arcLength(contour, True), True)\n",
        "        cv2.drawContours(img, [contour], 0, (0, 0, 255), 5)\n",
        "        M = cv2.moments(contour)\n",
        "        if M['m00'] != 0.0:\n",
        "            x = int(M['m10'] / M['m00'])\n",
        "            y = int(M['m01'] / M['m00'])\n",
        "            if len(approx) == 3:\n",
        "                cv2.putText(img, 'Triangle', (x, y),\n",
        "                            cv2.FONT_HERSHEY_SIMPLEX, 0.6, (255, 0, 255), 2)\n",
        "            elif len(approx) == 4:\n",
        "                cv2.putText(img, 'Quadrilateral', (x, y),\n",
        "                            cv2.FONT_HERSHEY_SIMPLEX, 0.6, (255, 0, 255), 2)\n",
        "            elif len(approx) == 5:\n",
        "                cv2.putText(img, 'Pentagon', (x, y),\n",
        "                            cv2.FONT_HERSHEY_SIMPLEX, 0.6, (255, 0, 255), 2)\n",
        "            elif len(approx) == 6:\n",
        "                cv2.putText(img, 'Hexagon', (x, y),\n",
        "                            cv2.FONT_HERSHEY_SIMPLEX, 0.6, (255, 0, 255), 2)\n",
        "            else:\n",
        "                cv2.putText(img, 'Circle', (x, y),\n",
        "                            cv2.FONT_HERSHEY_SIMPLEX, 0.6, (255, 0, 255), 2)\n",
        "\n",
        "    cv2_imshow(img)\n",
        "    cv2.waitKey(0)\n",
        "    cv2.destroyAllWindows()\n",
        "\n"
      ]
    }
  ]
}